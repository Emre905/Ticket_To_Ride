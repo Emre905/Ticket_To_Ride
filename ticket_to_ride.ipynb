{
 "cells": [
  {
   "cell_type": "markdown",
   "metadata": {},
   "source": [
    "# Let's call all libraries and define city and road variables"
   ]
  },
  {
   "cell_type": "code",
   "execution_count": 1,
   "metadata": {},
   "outputs": [],
   "source": [
    "import networkx as nx\n",
    "\n",
    "# Write all city names as variables for simplicity (to be able to call faster with no typos)\n",
    "ATLANTA = \"Atlanta\"\n",
    "BOSTON = \"Boston\"\n",
    "CALGARY = \"Calgary\"\n",
    "CHARLESTON = \"Charleston\"\n",
    "CHICAGO = \"Chicago\"\n",
    "DALLAS = \"Dallas\"\n",
    "DENVER = \"Denver\"\n",
    "DULUTH = \"Duluth\"\n",
    "EL_PASO = \"El Paso\"\n",
    "HELENA = \"Helena\"\n",
    "HOUSTON = \"Houston\"\n",
    "KANSAS_CITY = \"Kansas City\"\n",
    "LAS_VEGAS = \"Las Vegas\"\n",
    "LITTLE_ROCK = \"Little Rock\"\n",
    "LOS_ANGELES = \"Los Angeles\"\n",
    "MIAMI = \"Miami\"\n",
    "MONTREAL = \"Montreal\"\n",
    "NASHVILLE = \"Nashville\"\n",
    "NEW_ORLEANS = \"New Orleans\"\n",
    "NEW_YORK = \"New York\"\n",
    "OKLAHOMA_CITY = \"Oklahoma City\"\n",
    "OMAHA = \"Omaha\"\n",
    "PHOENIX = \"Phoenix\"\n",
    "PITTSBURGH = \"Pittsburgh\"\n",
    "PORTLAND = \"Portland\"\n",
    "RALEIGH = \"Raleigh\"\n",
    "SAINT_LOUIS = \"Saint Louis\"\n",
    "SALT_LAKE_CITY = \"Salt Lake City\"\n",
    "SAN_FRANCISCO = \"San Francisco\"\n",
    "SANTA_FE = \"Santa Fe\"\n",
    "SAULT_ST_MARIE = \"Sault St. Marie\"\n",
    "SEATTLE = \"Seattle\"\n",
    "TORONTO = \"Toronto\"\n",
    "VANCOUVER = \"Vancouver\"\n",
    "WASHINGTON = \"Washington\"\n",
    "WINNIPEG = \"Winnipeg\"\n",
    "\n",
    "# VERTICES are list of all cities\n",
    "with open('cities.txt') as f:\n",
    "    VERTICES = [i.rstrip() for i in f] # stripping \"\\n\" from end of lines and seperating all lines\n",
    "    \n",
    "# EDGES are roads connecting 2 cities (City A,City B,Distance,Color)\n",
    "with open('roads.txt') as f:\n",
    "    next(f) # skipping header\n",
    "    EDGES = [tuple(i.strip().split(',')) for i in f] # stripping \"\\n\" and making other , seperated terms a tuple\n",
    "\n",
    "# TICKETS are given by the game. The goal is to connect those 2 cities, 3rd input is the point you get from completing\n",
    "# (City A,City B,Points)\n",
    "with open('tickets.txt') as f:\n",
    "    next(f) # skipping header\n",
    "    TICKETS = [tuple(i.strip().split(',')) for i in f] # stripping \"\\n\" and making other , seperated terms a tuple"
   ]
  },
  {
   "cell_type": "markdown",
   "metadata": {},
   "source": [
    "# Build bidirectional weighted graph from the VERTICES and EDGES"
   ]
  },
  {
   "cell_type": "code",
   "execution_count": 2,
   "metadata": {
    "scrolled": true
   },
   "outputs": [
    {
     "name": "stdout",
     "output_type": "stream",
     "text": [
      "{'Sault St. Marie': {0: {'weight': 5, 'colour': 'K'}}, 'Toronto': {0: {'weight': 3, 'colour': 'X'}}, 'New York': {0: {'weight': 3, 'colour': 'B'}}, 'Boston': {0: {'weight': 2, 'colour': 'X'}, 1: {'weight': 2, 'colour': 'X'}}}\n",
      "{'Omaha': {0: {'weight': 1, 'colour': 'X'}, 1: {'weight': 1, 'colour': 'X'}}, 'Saint Louis': {0: {'weight': 2, 'colour': 'B'}, 1: {'weight': 2, 'colour': 'P'}}, 'Oklahoma City': {0: {'weight': 2, 'colour': 'X'}, 1: {'weight': 2, 'colour': 'X'}}, 'Denver': {0: {'weight': 4, 'colour': 'K'}, 1: {'weight': 4, 'colour': 'O'}}}\n"
     ]
    }
   ],
   "source": [
    "G = nx.MultiGraph()\n",
    "G.add_nodes_from(VERTICES) #add vertices\n",
    "\n",
    "for edge in EDGES:\n",
    "    G.add_edge(edge[0], edge[1], weight = int(edge[2]), colour = edge[3])\n",
    "print(G[\"Montreal\"])\n",
    "print(G[\"Kansas City\"])"
   ]
  },
  {
   "cell_type": "code",
   "execution_count": 3,
   "metadata": {},
   "outputs": [
    {
     "name": "stdout",
     "output_type": "stream",
     "text": [
      "['Seattle', 'Helena', 'Omaha', 'Kansas City', 'Saint Louis', 'Nashville']\n",
      "16\n"
     ]
    }
   ],
   "source": [
    "print(nx.dijkstra_path(G,SEATTLE, NASHVILLE))\n",
    "print(nx.dijkstra_path_length(G,SEATTLE, NASHVILLE))"
   ]
  },
  {
   "cell_type": "markdown",
   "metadata": {},
   "source": [
    "# Steiner tree tries to find minimum sum of weights to connect given nods"
   ]
  },
  {
   "cell_type": "code",
   "execution_count": 5,
   "metadata": {},
   "outputs": [],
   "source": [
    "# Note: Finding optimal Steiner Tree is an NP problem and the function nx.steiner_tree() just approximates \n",
    "#the best solution\n",
    "# Had \"no attribute\" problems for this function. It is copied from the documentation, made some slight changes and \n",
    "# removed unnecessary functions:\n",
    "\n",
    "from networkx.utils import pairwise \n",
    "\n",
    "def steiner_tree(G, terminal_nodes, weight=\"weight\", method=None):\n",
    "    if method is None:\n",
    "        method = \"mehlhorn\"\n",
    "        \n",
    "    try:\n",
    "        algo = _mehlhorn_steiner_tree\n",
    "    except KeyError as e:\n",
    "        raise ValueError(f\"{method} is not a valid choice for an algorithm.\") from e\n",
    "\n",
    "    edges = algo(G, terminal_nodes, weight)\n",
    "    # For multigraph we should add the minimal weight edge keys\n",
    "    if G.is_multigraph():\n",
    "        edges = (\n",
    "            (u, v, min(G[u][v], key=lambda k: G[u][v][k][weight])) for u, v in edges\n",
    "        )\n",
    "    T = G.edge_subgraph(edges)\n",
    "    return T\n",
    "\n",
    "def _mehlhorn_steiner_tree(G, terminal_nodes, weight):\n",
    "    paths = nx.multi_source_dijkstra_path(G, terminal_nodes)\n",
    "\n",
    "    d_1 = {}\n",
    "    s = {}\n",
    "    for v in G.nodes():\n",
    "        s[v] = paths[v][0]\n",
    "        d_1[(v, s[v])] = len(paths[v]) - 1\n",
    "\n",
    "    # G1-G4 names match those from the Mehlhorn 1988 paper.\n",
    "    G_1_prime = nx.Graph()\n",
    "    for u, v, data in G.edges(data=True):\n",
    "        su, sv = s[u], s[v]\n",
    "        weight_here = d_1[(u, su)] + data.get(weight, 1) + d_1[(v, sv)]\n",
    "        if not G_1_prime.has_edge(su, sv):\n",
    "            G_1_prime.add_edge(su, sv, weight=weight_here)\n",
    "        else:\n",
    "            new_weight = min(weight_here, G_1_prime[su][sv][\"weight\"])\n",
    "            G_1_prime.add_edge(su, sv, weight=new_weight)\n",
    "\n",
    "    G_2 = nx.minimum_spanning_edges(G_1_prime, data=True)\n",
    "\n",
    "    G_3 = nx.Graph()\n",
    "    for u, v, d in G_2:\n",
    "        path = nx.shortest_path(G, u, v, weight)\n",
    "        for n1, n2 in pairwise(path):\n",
    "            G_3.add_edge(n1, n2)\n",
    "\n",
    "    G_3_mst = list(nx.minimum_spanning_edges(G_3, data=False))\n",
    "    if G.is_multigraph():\n",
    "        G_3_mst = (\n",
    "            (u, v, min(G[u][v], key=lambda k: G[u][v][k][weight])) for u, v in G_3_mst\n",
    "        )\n",
    "    G_4 = G.edge_subgraph(G_3_mst).copy()\n",
    "    _remove_nonterminal_leaves(G_4, terminal_nodes)\n",
    "    return G_4.edges()\n",
    "\n",
    "def _remove_nonterminal_leaves(G, terminals):\n",
    "    terminals_set = set(terminals)\n",
    "    for n in list(G.nodes):\n",
    "        if n not in terminals_set and G.degree(n) == 1:\n",
    "            G.remove_node(n)"
   ]
  },
  {
   "cell_type": "code",
   "execution_count": 16,
   "metadata": {},
   "outputs": [
    {
     "name": "stdout",
     "output_type": "stream",
     "text": [
      "['Seattle', 'Helena', 'Omaha', 'Nashville', 'New Orleans', 'Saint Louis', 'Kansas City', 'Atlanta']\n",
      "\n",
      " [('Seattle', 'Helena'), ('Helena', 'Omaha'), ('Omaha', 'Kansas City'), ('Nashville', 'Saint Louis'), ('Nashville', 'Atlanta'), ('Saint Louis', 'Kansas City'), ('New Orleans', 'Atlanta')]\n"
     ]
    }
   ],
   "source": [
    "G2 =steiner_tree(G, [ATLANTA, NEW_ORLEANS, OMAHA, SEATTLE])\n",
    "print(list(G2)) # what it displays is the minimal list of nodes we must use to visit ATLANTA, NEW_ORLEANS, OMAHA, SEATTLE\n",
    "\n",
    "# Or to get the necessary edges we can do:\n",
    "print(\"\\n\",_mehlhorn_steiner_tree(G, [ATLANTA, NEW_ORLEANS, OMAHA, SEATTLE], weight = \"weight\"))"
   ]
  }
 ],
 "metadata": {
  "kernelspec": {
   "display_name": "Python [conda env:root] *",
   "language": "python",
   "name": "conda-root-py"
  },
  "language_info": {
   "codemirror_mode": {
    "name": "ipython",
    "version": 3
   },
   "file_extension": ".py",
   "mimetype": "text/x-python",
   "name": "python",
   "nbconvert_exporter": "python",
   "pygments_lexer": "ipython3",
   "version": "3.11.7"
  }
 },
 "nbformat": 4,
 "nbformat_minor": 2
}
